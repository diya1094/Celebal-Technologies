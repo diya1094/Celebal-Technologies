{
  "nbformat": 4,
  "nbformat_minor": 0,
  "metadata": {
    "colab": {
      "provenance": [],
      "authorship_tag": "ABX9TyOluCQzA8fZhFjeB4em34Nx",
      "include_colab_link": true
    },
    "kernelspec": {
      "name": "python3",
      "display_name": "Python 3"
    },
    "language_info": {
      "name": "python"
    }
  },
  "cells": [
    {
      "cell_type": "markdown",
      "metadata": {
        "id": "view-in-github",
        "colab_type": "text"
      },
      "source": [
        "<a href=\"https://colab.research.google.com/github/diya1094/Celebal-Technologies/blob/main/Assignment_6.ipynb\" target=\"_parent\"><img src=\"https://colab.research.google.com/assets/colab-badge.svg\" alt=\"Open In Colab\"/></a>"
      ]
    },
    {
      "cell_type": "code",
      "execution_count": null,
      "metadata": {
        "colab": {
          "base_uri": "https://localhost:8080/"
        },
        "id": "lNFl2hcXyOsQ",
        "outputId": "b580f6d7-a5fc-4f90-99d9-7087c6688106"
      },
      "outputs": [
        {
          "output_type": "stream",
          "name": "stdout",
          "text": [
            "Mounted at /content/drive\n"
          ]
        }
      ],
      "source": [
        "from google.colab import drive\n",
        "drive.mount('/content/drive')"
      ]
    },
    {
      "cell_type": "code",
      "source": [
        "import pandas as pd\n",
        "file_path = \"/content/drive/MyDrive/Celebal/train.csv\"\n",
        "df = pd.read_csv(file_path)"
      ],
      "metadata": {
        "id": "iWBHbydgzFv4"
      },
      "execution_count": null,
      "outputs": []
    },
    {
      "cell_type": "code",
      "source": [
        "for col in df.columns:\n",
        "    if df[col].dtype in ['int64', 'float64']:\n",
        "        df[col] = df[col].fillna(df[col].mean())\n",
        "    else:\n",
        "        df[col] = df[col].fillna(df[col].mode()[0])\n",
        "\n",
        "#Dropped the column Id\n",
        "dataset_df = df.drop('Id', axis=1)\n",
        "\n",
        "print(dataset_df.head())\n",
        "print(dataset_df.info())\n",
        "print(dataset_df.isnull().sum())"
      ],
      "metadata": {
        "colab": {
          "base_uri": "https://localhost:8080/"
        },
        "id": "6TNsu4zB0D9U",
        "outputId": "fc8d4a47-0b16-4b74-96bc-faf4c08ff982"
      },
      "execution_count": null,
      "outputs": [
        {
          "output_type": "stream",
          "name": "stdout",
          "text": [
            "   MSSubClass MSZoning  LotFrontage  LotArea Street Alley LotShape  \\\n",
            "0          60       RL         65.0     8450   Pave  Grvl      Reg   \n",
            "1          20       RL         80.0     9600   Pave  Grvl      Reg   \n",
            "2          60       RL         68.0    11250   Pave  Grvl      IR1   \n",
            "3          70       RL         60.0     9550   Pave  Grvl      IR1   \n",
            "4          60       RL         84.0    14260   Pave  Grvl      IR1   \n",
            "\n",
            "  LandContour Utilities LotConfig  ... PoolArea PoolQC  Fence MiscFeature  \\\n",
            "0         Lvl    AllPub    Inside  ...        0     Gd  MnPrv        Shed   \n",
            "1         Lvl    AllPub       FR2  ...        0     Gd  MnPrv        Shed   \n",
            "2         Lvl    AllPub    Inside  ...        0     Gd  MnPrv        Shed   \n",
            "3         Lvl    AllPub    Corner  ...        0     Gd  MnPrv        Shed   \n",
            "4         Lvl    AllPub       FR2  ...        0     Gd  MnPrv        Shed   \n",
            "\n",
            "  MiscVal MoSold  YrSold  SaleType  SaleCondition  SalePrice  \n",
            "0       0      2    2008        WD         Normal     208500  \n",
            "1       0      5    2007        WD         Normal     181500  \n",
            "2       0      9    2008        WD         Normal     223500  \n",
            "3       0      2    2006        WD        Abnorml     140000  \n",
            "4       0     12    2008        WD         Normal     250000  \n",
            "\n",
            "[5 rows x 80 columns]\n",
            "<class 'pandas.core.frame.DataFrame'>\n",
            "RangeIndex: 1460 entries, 0 to 1459\n",
            "Data columns (total 80 columns):\n",
            " #   Column         Non-Null Count  Dtype  \n",
            "---  ------         --------------  -----  \n",
            " 0   MSSubClass     1460 non-null   int64  \n",
            " 1   MSZoning       1460 non-null   object \n",
            " 2   LotFrontage    1460 non-null   float64\n",
            " 3   LotArea        1460 non-null   int64  \n",
            " 4   Street         1460 non-null   object \n",
            " 5   Alley          1460 non-null   object \n",
            " 6   LotShape       1460 non-null   object \n",
            " 7   LandContour    1460 non-null   object \n",
            " 8   Utilities      1460 non-null   object \n",
            " 9   LotConfig      1460 non-null   object \n",
            " 10  LandSlope      1460 non-null   object \n",
            " 11  Neighborhood   1460 non-null   object \n",
            " 12  Condition1     1460 non-null   object \n",
            " 13  Condition2     1460 non-null   object \n",
            " 14  BldgType       1460 non-null   object \n",
            " 15  HouseStyle     1460 non-null   object \n",
            " 16  OverallQual    1460 non-null   int64  \n",
            " 17  OverallCond    1460 non-null   int64  \n",
            " 18  YearBuilt      1460 non-null   int64  \n",
            " 19  YearRemodAdd   1460 non-null   int64  \n",
            " 20  RoofStyle      1460 non-null   object \n",
            " 21  RoofMatl       1460 non-null   object \n",
            " 22  Exterior1st    1460 non-null   object \n",
            " 23  Exterior2nd    1460 non-null   object \n",
            " 24  MasVnrType     1460 non-null   object \n",
            " 25  MasVnrArea     1460 non-null   float64\n",
            " 26  ExterQual      1460 non-null   object \n",
            " 27  ExterCond      1460 non-null   object \n",
            " 28  Foundation     1460 non-null   object \n",
            " 29  BsmtQual       1460 non-null   object \n",
            " 30  BsmtCond       1460 non-null   object \n",
            " 31  BsmtExposure   1460 non-null   object \n",
            " 32  BsmtFinType1   1460 non-null   object \n",
            " 33  BsmtFinSF1     1460 non-null   int64  \n",
            " 34  BsmtFinType2   1460 non-null   object \n",
            " 35  BsmtFinSF2     1460 non-null   int64  \n",
            " 36  BsmtUnfSF      1460 non-null   int64  \n",
            " 37  TotalBsmtSF    1460 non-null   int64  \n",
            " 38  Heating        1460 non-null   object \n",
            " 39  HeatingQC      1460 non-null   object \n",
            " 40  CentralAir     1460 non-null   object \n",
            " 41  Electrical     1460 non-null   object \n",
            " 42  1stFlrSF       1460 non-null   int64  \n",
            " 43  2ndFlrSF       1460 non-null   int64  \n",
            " 44  LowQualFinSF   1460 non-null   int64  \n",
            " 45  GrLivArea      1460 non-null   int64  \n",
            " 46  BsmtFullBath   1460 non-null   int64  \n",
            " 47  BsmtHalfBath   1460 non-null   int64  \n",
            " 48  FullBath       1460 non-null   int64  \n",
            " 49  HalfBath       1460 non-null   int64  \n",
            " 50  BedroomAbvGr   1460 non-null   int64  \n",
            " 51  KitchenAbvGr   1460 non-null   int64  \n",
            " 52  KitchenQual    1460 non-null   object \n",
            " 53  TotRmsAbvGrd   1460 non-null   int64  \n",
            " 54  Functional     1460 non-null   object \n",
            " 55  Fireplaces     1460 non-null   int64  \n",
            " 56  FireplaceQu    1460 non-null   object \n",
            " 57  GarageType     1460 non-null   object \n",
            " 58  GarageYrBlt    1460 non-null   float64\n",
            " 59  GarageFinish   1460 non-null   object \n",
            " 60  GarageCars     1460 non-null   int64  \n",
            " 61  GarageArea     1460 non-null   int64  \n",
            " 62  GarageQual     1460 non-null   object \n",
            " 63  GarageCond     1460 non-null   object \n",
            " 64  PavedDrive     1460 non-null   object \n",
            " 65  WoodDeckSF     1460 non-null   int64  \n",
            " 66  OpenPorchSF    1460 non-null   int64  \n",
            " 67  EnclosedPorch  1460 non-null   int64  \n",
            " 68  3SsnPorch      1460 non-null   int64  \n",
            " 69  ScreenPorch    1460 non-null   int64  \n",
            " 70  PoolArea       1460 non-null   int64  \n",
            " 71  PoolQC         1460 non-null   object \n",
            " 72  Fence          1460 non-null   object \n",
            " 73  MiscFeature    1460 non-null   object \n",
            " 74  MiscVal        1460 non-null   int64  \n",
            " 75  MoSold         1460 non-null   int64  \n",
            " 76  YrSold         1460 non-null   int64  \n",
            " 77  SaleType       1460 non-null   object \n",
            " 78  SaleCondition  1460 non-null   object \n",
            " 79  SalePrice      1460 non-null   int64  \n",
            "dtypes: float64(3), int64(34), object(43)\n",
            "memory usage: 912.6+ KB\n",
            "None\n",
            "MSSubClass       0\n",
            "MSZoning         0\n",
            "LotFrontage      0\n",
            "LotArea          0\n",
            "Street           0\n",
            "                ..\n",
            "MoSold           0\n",
            "YrSold           0\n",
            "SaleType         0\n",
            "SaleCondition    0\n",
            "SalePrice        0\n",
            "Length: 80, dtype: int64\n"
          ]
        }
      ]
    },
    {
      "cell_type": "code",
      "source": [
        "from sklearn.model_selection import train_test_split\n",
        "\n",
        "X = dataset_df.drop('SalePrice', axis=1)\n",
        "y = dataset_df['SalePrice']\n",
        "\n",
        "X_train, X_test, y_train, y_test = train_test_split(X, y, test_size=0.2, random_state=42)"
      ],
      "metadata": {
        "id": "qtsFOaCcVN3S"
      },
      "execution_count": null,
      "outputs": []
    },
    {
      "cell_type": "code",
      "source": [
        "from sklearn.preprocessing import OneHotEncoder\n",
        "from sklearn.compose import ColumnTransformer\n",
        "from sklearn.pipeline import Pipeline\n",
        "from sklearn.metrics import mean_squared_error, r2_score\n",
        "\n",
        "categorical_features = X.select_dtypes(include=['object']).columns\n",
        "\n",
        "preprocessor = ColumnTransformer(\n",
        "    transformers=[\n",
        "        ('onehot', OneHotEncoder(handle_unknown='ignore'), categorical_features)\n",
        "    ],\n",
        "    remainder='passthrough'\n",
        ")\n",
        "\n",
        "rf_pipeline = Pipeline(steps=[('preprocessor', preprocessor),\n",
        "                             ('regressor', rf_model)])\n",
        "\n",
        "gbr_pipeline = Pipeline(steps=[('preprocessor', preprocessor),\n",
        "                              ('regressor', gbr_model)])\n",
        "\n",
        "svr_pipeline = Pipeline(steps=[('preprocessor', preprocessor),\n",
        "                              ('regressor', svr_model)])\n",
        "\n",
        "# Train and evaluate RandomForestRegressor\n",
        "rf_pipeline.fit(X_train, y_train)\n",
        "rf_pred = rf_pipeline.predict(X_test)\n",
        "rf_mse = mean_squared_error(y_test, rf_pred)\n",
        "rf_r2 = r2_score(y_test, rf_pred)\n",
        "\n",
        "print(\"RandomForestRegressor Performance:\")\n",
        "print(f\"Mean Squared Error: {rf_mse:.2f}\")\n",
        "print(f\"R-squared: {rf_r2:.2f}\")\n",
        "print(\"-\" * 30)\n",
        "\n",
        "# Train and evaluate GradientBoostingRegressor\n",
        "gbr_pipeline.fit(X_train, y_train)\n",
        "gbr_pred = gbr_pipeline.predict(X_test)\n",
        "gbr_mse = mean_squared_error(y_test, gbr_pred)\n",
        "gbr_r2 = r2_score(y_test, gbr_pred)\n",
        "\n",
        "print(\"GradientBoostingRegressor Performance:\")\n",
        "print(f\"Mean Squared Error: {gbr_mse:.2f}\")\n",
        "print(f\"R-squared: {gbr_r2:.2f}\")\n",
        "print(\"-\" * 30)\n",
        "\n",
        "# Train and evaluate SVR\n",
        "from sklearn.preprocessing import StandardScaler\n",
        "svr_pipeline = Pipeline(steps=[('preprocessor', preprocessor),\n",
        "                              ('scaler', StandardScaler(with_mean=False)),\n",
        "                              ('regressor', svr_model)])\n",
        "\n",
        "svr_pipeline.fit(X_train, y_train)\n",
        "svr_pred = svr_pipeline.predict(X_test)\n",
        "svr_mse = mean_squared_error(y_test, svr_pred)\n",
        "svr_r2 = r2_score(y_test, svr_pred)\n",
        "\n",
        "print(\"SVR Performance:\")\n",
        "print(f\"Mean Squared Error: {svr_mse:.2f}\")\n",
        "print(f\"R-squared: {svr_r2:.2f}\")\n",
        "print(\"-\" * 30)"
      ],
      "metadata": {
        "colab": {
          "base_uri": "https://localhost:8080/"
        },
        "id": "6igSkkklVkjx",
        "outputId": "8a502d73-928e-481e-e08f-246b00283f09"
      },
      "execution_count": 17,
      "outputs": [
        {
          "output_type": "stream",
          "name": "stdout",
          "text": [
            "RandomForestRegressor Performance:\n",
            "Mean Squared Error: 849479450.94\n",
            "R-squared: 0.89\n",
            "------------------------------\n",
            "GradientBoostingRegressor Performance:\n",
            "Mean Squared Error: 709711170.35\n",
            "R-squared: 0.91\n",
            "------------------------------\n",
            "SVR Performance:\n",
            "Mean Squared Error: 7861867326.18\n",
            "R-squared: -0.02\n",
            "------------------------------\n"
          ]
        }
      ]
    },
    {
      "cell_type": "code",
      "metadata": {
        "id": "4357d0fe",
        "colab": {
          "base_uri": "https://localhost:8080/"
        },
        "outputId": "b4a96ee8-81dd-4734-8177-bd60bc0bb3be"
      },
      "source": [
        "from sklearn.model_selection import GridSearchCV\n",
        "\n",
        "param_grid_rf = {\n",
        "    'regressor__n_estimators': [100, 200, 300],\n",
        "    'regressor__max_depth': [None, 10, 20],\n",
        "    'regressor__min_samples_split': [2, 5, 10]\n",
        "}\n",
        "\n",
        "grid_search_rf = GridSearchCV(rf_pipeline, param_grid_rf, cv=5, scoring='r2', n_jobs=-1)\n",
        "grid_search_rf.fit(X_train, y_train)\n",
        "\n",
        "print(\"Best parameters for RandomForestRegressor:\", grid_search_rf.best_params_)\n",
        "print(\"Best R-squared for RandomForestRegressor:\", grid_search_rf.best_score_)\n",
        "print(\"-\" * 30)\n",
        "\n",
        "param_grid_gbr = {\n",
        "    'regressor__n_estimators': [100, 200, 300],\n",
        "    'regressor__learning_rate': [0.01, 0.05, 0.1],\n",
        "    'regressor__max_depth': [3, 5, 7]\n",
        "}\n",
        "\n",
        "grid_search_gbr = GridSearchCV(gbr_pipeline, param_grid_gbr, cv=5, scoring='r2', n_jobs=-1)\n",
        "grid_search_gbr.fit(X_train, y_train)\n",
        "\n",
        "print(\"Best parameters for GradientBoostingRegressor:\", grid_search_gbr.best_params_)\n",
        "print(\"Best R-squared for GradientBoostingRegressor:\", grid_search_gbr.best_score_)\n",
        "print(\"-\" * 30)"
      ],
      "execution_count": 16,
      "outputs": [
        {
          "output_type": "stream",
          "name": "stdout",
          "text": [
            "Best parameters for RandomForestRegressor: {'regressor__max_depth': None, 'regressor__min_samples_split': 2, 'regressor__n_estimators': 300}\n",
            "Best R-squared for RandomForestRegressor: 0.8407285403503945\n",
            "------------------------------\n",
            "Best parameters for GradientBoostingRegressor: {'regressor__learning_rate': 0.05, 'regressor__max_depth': 3, 'regressor__n_estimators': 300}\n",
            "Best R-squared for GradientBoostingRegressor: 0.8638866750689973\n",
            "------------------------------\n"
          ]
        }
      ]
    },
    {
      "cell_type": "markdown",
      "source": [
        "Based on the R-squared values from the initial evaluation and the grid search results, the Gradient Boosting Regressor model performed the best among the models you trained. It had the highest R-squared score after hyperparameter tuning.\n",
        "\n",
        "\n",
        "- RandomForestRegressor: Achieved an R-squared of 0.89 initially and the best R-squared after grid search was 0.84.\n",
        "- GradientBoostingRegressor: Achieved an R-squared of 0.91 initially and the best R-squared after grid search was 0.86.\n",
        "- SVR: Performed poorly with a negative R-squared score.\n",
        "- Therefore, the GradientBoostingRegressor with the tuned hyperparameters is the best model for this task."
      ],
      "metadata": {
        "id": "h2m5dB6cf6Sb"
      }
    }
  ]
}